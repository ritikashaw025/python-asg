{
 "cells": [
  {
   "cell_type": "code",
   "execution_count": 2,
   "id": "01ea4149-da9d-4764-aae0-ca00381ad5d2",
   "metadata": {},
   "outputs": [
    {
     "name": "stdin",
     "output_type": "stream",
     "text": [
      "Enter the first number:  3.8\n",
      "Enter the second number:  2.2\n",
      "Enter the third number:  1.2\n"
     ]
    },
    {
     "name": "stdout",
     "output_type": "stream",
     "text": [
      "The sum of the three numbers is: 7.2\n",
      "The average of the three numbers is: 2.4\n"
     ]
    }
   ],
   "source": [
    "# to calculate the sum and average of three float numbers\n",
    "def calculate_sum_and_average(num1, num2, num3):\n",
    "    \n",
    "    total_sum = num1 + num2 + num3\n",
    "\n",
    "    average = total_sum / 3\n",
    "    return total_sum, average\n",
    "\n",
    "\n",
    "number1 = float(input(\"Enter the first number: \"))\n",
    "number2 = float(input(\"Enter the second number: \"))\n",
    "number3 = float(input(\"Enter the third number: \"))\n",
    "\n",
    "sum_of_numbers, avg_of_numbers = calculate_sum_and_average(number1, number2, number3)\n",
    "print(f\"The sum of the three numbers is: {sum_of_numbers}\")\n",
    "print(f\"The average of the three numbers is: {avg_of_numbers}\")\n"
   ]
  },
  {
   "cell_type": "code",
   "execution_count": 3,
   "id": "b2c328fb-26a5-44e8-9bc8-852d7fd358be",
   "metadata": {},
   "outputs": [
    {
     "name": "stdout",
     "output_type": "stream",
     "text": [
      "The volume of the sphere with radius 6 cm is: 904.78 cubic cm\n"
     ]
    }
   ],
   "source": [
    "#to calculate the volume of a sphere\n",
    "import math\n",
    "def calculate_sphere_volume(radius):\n",
    "    volume = (4/3) * math.pi * (radius ** 3)\n",
    "    return volume\n",
    "radius = 6  \n",
    "volume_of_sphere = calculate_sphere_volume(radius)\n",
    "\n",
    "print(f\"The volume of the sphere with radius {radius} cm is: {volume_of_sphere:.2f} cubic cm\")"
   ]
  },
  {
   "cell_type": "code",
   "execution_count": 5,
   "id": "f8173581-c09d-4577-b62f-6042ec44ce73",
   "metadata": {},
   "outputs": [
    {
     "name": "stdin",
     "output_type": "stream",
     "text": [
      "Enter the radius of the circle:  3\n"
     ]
    },
    {
     "name": "stdout",
     "output_type": "stream",
     "text": [
      "The area of the circle with radius 3.0 cm is: 28.27 square cm\n"
     ]
    }
   ],
   "source": [
    "import math\n",
    "\n",
    "# to calculate the area of a circle\n",
    "def calculate_circle_area(radius):\n",
    "    # Formula to calculate the area of a circle: π * r^2\n",
    "    area = math.pi * (radius ** 2)\n",
    "    return area\n",
    "radius = float(input(\"Enter the radius of the circle: \"))\n",
    "area_of_circle = calculate_circle_area(radius)\n",
    "print(f\"The area of the circle with radius {radius} cm is: {area_of_circle:.2f} square cm\")"
   ]
  },
  {
   "cell_type": "code",
   "execution_count": 6,
   "id": "76bc7372-6028-4eca-bab5-a01861722fa3",
   "metadata": {},
   "outputs": [
    {
     "name": "stdin",
     "output_type": "stream",
     "text": [
      "Enter the principal amount:  445000\n",
      "Enter the rate of interest (in %):  5\n",
      "Enter the time period (in years):  4\n"
     ]
    },
    {
     "name": "stdout",
     "output_type": "stream",
     "text": [
      "The simple interest is: 89000.00\n"
     ]
    }
   ],
   "source": [
    "# to calculate simple interest\n",
    "def calculate_simple_interest(principal, rate, time):\n",
    "    \n",
    "    simple_interest = (principal * rate * time) / 100\n",
    "    return simple_interest\n",
    "principal = float(input(\"Enter the principal amount: \"))\n",
    "rate = float(input(\"Enter the rate of interest (in %): \"))\n",
    "time = float(input(\"Enter the time period (in years): \"))\n",
    "simple_interest = calculate_simple_interest(principal, rate, time)\n",
    "print(f\"The simple interest is: {simple_interest:.2f}\")"
   ]
  },
  {
   "cell_type": "code",
   "execution_count": 7,
   "id": "ca7e9cd6-87b3-4d63-bc2a-5c6d227aaa83",
   "metadata": {},
   "outputs": [
    {
     "name": "stdin",
     "output_type": "stream",
     "text": [
      "Enter the first number:  34\n",
      "Enter the second number:  25\n"
     ]
    },
    {
     "name": "stdout",
     "output_type": "stream",
     "text": [
      "Before swapping: num1 = 34.0, num2 = 25.0\n",
      "After swapping: num1 = 25.0, num2 = 34.0\n"
     ]
    }
   ],
   "source": [
    "# swapping\n",
    "num1 = float(input(\"Enter the first number: \"))\n",
    "num2 = float(input(\"Enter the second number: \"))\n",
    "print(f\"Before swapping: num1 = {num1}, num2 = {num2}\")\n",
    "num1 = num1 + num2  \n",
    "num2 = num1 - num2  \n",
    "num1 = num1 - num2  \n",
    "print(f\"After swapping: num1 = {num1}, num2 = {num2}\")"
   ]
  },
  {
   "cell_type": "code",
   "execution_count": 8,
   "id": "b5279ffd-eb9f-464e-aa73-9d53cd3e9649",
   "metadata": {},
   "outputs": [
    {
     "name": "stdin",
     "output_type": "stream",
     "text": [
      "Enter the temperature in Celsius:  37\n"
     ]
    },
    {
     "name": "stdout",
     "output_type": "stream",
     "text": [
      "The temperature in Fahrenheit is: 98.60°F\n"
     ]
    }
   ],
   "source": [
    "# to convert Celsius to Fahrenheit\n",
    "def celsius_to_fahrenheit(celsius):\n",
    "    \n",
    "    fahrenheit = (celsius * 9/5) + 32\n",
    "    return fahrenheit\n",
    "celsius = float(input(\"Enter the temperature in Celsius: \"))\n",
    "fahrenheit = celsius_to_fahrenheit(celsius)\n",
    "print(f\"The temperature in Fahrenheit is: {fahrenheit:.2f}°F\")"
   ]
  },
  {
   "cell_type": "code",
   "execution_count": 10,
   "id": "f64dd87e-e429-4025-9384-069db83ffa3f",
   "metadata": {},
   "outputs": [
    {
     "name": "stdin",
     "output_type": "stream",
     "text": [
      "Enter the number of days:  235\n"
     ]
    },
    {
     "name": "stdout",
     "output_type": "stream",
     "text": [
      "235 days is equivalent to:\n",
      "0 year(s), 7 month(s), 3 week(s), and 4 day(s)\n"
     ]
    }
   ],
   "source": [
    "# Function to convert days into years, months, weeks, and days\n",
    "def convert_days(total_days):\n",
    "\n",
    "    \n",
    "    years = total_days // 365  \n",
    "    remaining_days = total_days % 365  \n",
    "    \n",
    "    months = remaining_days // 30\n",
    "    remaining_days = remaining_days % 30  \n",
    "    \n",
    "    weeks = remaining_days // 7 \n",
    "    days = remaining_days % 7  \n",
    "    \n",
    "    return years, months, weeks, days\n",
    "total_days = int(input(\"Enter the number of days: \"))\n",
    "years, months, weeks, days = convert_days(total_days)\n",
    "\n",
    "print(f\"{total_days} days is equivalent to:\")\n",
    "print(f\"{years} year(s), {months} month(s), {weeks} week(s), and {days} day(s)\")"
   ]
  },
  {
   "cell_type": "code",
   "execution_count": 11,
   "id": "1253121f-ac2d-4107-892f-9d204ab5d418",
   "metadata": {},
   "outputs": [
    {
     "name": "stdin",
     "output_type": "stream",
     "text": [
      "Enter the mass of the first object (in kg):  17\n",
      "Enter the mass of the second object (in kg):  25\n",
      "Enter the distance between the two objects (in meters):  10\n"
     ]
    },
    {
     "name": "stdout",
     "output_type": "stream",
     "text": [
      "The gravitational force between the two objects is: 2.84e-10 N\n"
     ]
    }
   ],
   "source": [
    "# gravitational force between two objects\n",
    "def calculate_gravitational_force(m1, m2, r):\n",
    "\n",
    "    G = 6.67430e-11\n",
    "    force = G * (m1 * m2) / (r ** 2)\n",
    "    return force\n",
    "mass1 = float(input(\"Enter the mass of the first object (in kg): \"))\n",
    "mass2 = float(input(\"Enter the mass of the second object (in kg): \"))\n",
    "distance = float(input(\"Enter the distance between the two objects (in meters): \"))\n",
    "gravitational_force = calculate_gravitational_force(mass1, mass2, distance)\n",
    "\n",
    "print(f\"The gravitational force between the two objects is: {gravitational_force:.2e} N\")"
   ]
  },
  {
   "cell_type": "code",
   "execution_count": 12,
   "id": "20e59336-fffd-4da0-9dbd-b877c38bbe51",
   "metadata": {},
   "outputs": [
    {
     "name": "stdin",
     "output_type": "stream",
     "text": [
      "Enter a number:  21\n"
     ]
    },
    {
     "name": "stdout",
     "output_type": "stream",
     "text": [
      "The number 21 is Odd.\n"
     ]
    }
   ],
   "source": [
    "# to check if a number is even or odd\n",
    "def check_even_odd(number):\n",
    "    if number % 2 == 0:\n",
    "        return \"Even\"\n",
    "    else:\n",
    "        return \"Odd\"\n",
    "num = int(input(\"Enter a number: \"))\n",
    "result = check_even_odd(num)\n",
    "print(f\"The number {num} is {result}.\")"
   ]
  },
  {
   "cell_type": "code",
   "execution_count": 13,
   "id": "28c459ac-e24b-4054-aebb-aeb05767fbc4",
   "metadata": {},
   "outputs": [
    {
     "name": "stdin",
     "output_type": "stream",
     "text": [
      "Enter a number:  34\n"
     ]
    },
    {
     "name": "stdout",
     "output_type": "stream",
     "text": [
      "The number is greater than 15.\n",
      "Two times the difference is: 38.00\n"
     ]
    }
   ],
   "source": [
    "# Check if the number is greater than or less than 15\n",
    "number = float(input(\"Enter a number: \"))\n",
    "comparison_value = 15\n",
    "difference = number - comparison_value\n",
    "if number > comparison_value:\n",
    "    result = 2 * difference  \n",
    "    print(f\"The number is greater than {comparison_value}.\")\n",
    "    print(f\"Two times the difference is: {result:.2f}\")\n",
    "else:\n",
    "    result = 4 * difference  \n",
    "    print(f\"The number is less than or equal to {comparison_value}.\")\n",
    "    print(f\"Four times the difference is: {result:.2f}\")"
   ]
  },
  {
   "cell_type": "code",
   "execution_count": 14,
   "id": "91d8fb57-4fcc-40a0-9fdd-792d6655c801",
   "metadata": {},
   "outputs": [
    {
     "name": "stdin",
     "output_type": "stream",
     "text": [
      "Enter the first number:  12\n",
      "Enter the second number:  9\n",
      "Enter the third number:  46\n"
     ]
    },
    {
     "name": "stdout",
     "output_type": "stream",
     "text": [
      "The largest among the three numbers is: 46.0\n"
     ]
    }
   ],
   "source": [
    "# to find the largest among three numbers\n",
    "def find_largest(num1, num2, num3):\n",
    "    if num1 >= num2 and num1 >= num3:\n",
    "        return num1\n",
    "    elif num2 >= num1 and num2 >= num3:\n",
    "        return num2\n",
    "    else:\n",
    "        return num3\n",
    "number1 = float(input(\"Enter the first number: \"))\n",
    "number2 = float(input(\"Enter the second number: \"))\n",
    "number3 = float(input(\"Enter the third number: \"))\n",
    "largest_number = find_largest(number1, number2, number3)\n",
    "print(f\"The largest among the three numbers is: {largest_number}\")"
   ]
  },
  {
   "cell_type": "code",
   "execution_count": 15,
   "id": "0f5be44c-4098-4a70-87a7-c9c805d2890f",
   "metadata": {},
   "outputs": [
    {
     "name": "stdin",
     "output_type": "stream",
     "text": [
      "Enter the length of the first side:  45\n",
      "Enter the length of the second side:  45\n",
      "Enter the length of the third side:  45\n"
     ]
    },
    {
     "name": "stdout",
     "output_type": "stream",
     "text": [
      "The triangle is: Equilateral triangle\n"
     ]
    }
   ],
   "source": [
    "# to determine the type of triangle\n",
    "def triangle_type(side1, side2, side3):\n",
    "    if side1 <= 0 or side2 <= 0 or side3 <= 0:\n",
    "        return \"Invalid triangle sides. All sides must be positive.\"\n",
    "    \n",
    "    if side1 == side2 == side3:\n",
    "        return \"Equilateral triangle\"\n",
    "    elif side1 == side2 or side2 == side3 or side1 == side3:\n",
    "        return \"Isosceles triangle\"\n",
    "    else:\n",
    "        return \"Scalene triangle\"\n",
    "side1 = float(input(\"Enter the length of the first side: \"))\n",
    "side2 = float(input(\"Enter the length of the second side: \"))\n",
    "side3 = float(input(\"Enter the length of the third side: \"))\n",
    "\n",
    "result = triangle_type(side1, side2, side3)\n",
    "print(f\"The triangle is: {result}\")"
   ]
  },
  {
   "cell_type": "code",
   "execution_count": 16,
   "id": "6ae9d430-1657-45b1-84de-b1277a2adb5d",
   "metadata": {},
   "outputs": [
    {
     "name": "stdin",
     "output_type": "stream",
     "text": [
      "Enter a year:  2003\n"
     ]
    },
    {
     "name": "stdout",
     "output_type": "stream",
     "text": [
      "2003 is not a leap year.\n"
     ]
    }
   ],
   "source": [
    "# to check if a year is a leap year\n",
    "def is_leap_year(year):\n",
    "    if (year % 4 == 0 and year % 100 != 0) or (year % 400 == 0):\n",
    "        return True\n",
    "    else:\n",
    "        return False\n",
    "year = int(input(\"Enter a year: \"))\n",
    "if is_leap_year(year):\n",
    "    print(f\"{year} is a leap year.\")\n",
    "else:\n",
    "    print(f\"{year} is not a leap year.\")"
   ]
  },
  {
   "cell_type": "code",
   "execution_count": 23,
   "id": "ad8bb4f0-55bc-4086-901b-87705d2e7808",
   "metadata": {},
   "outputs": [
    {
     "name": "stdin",
     "output_type": "stream",
     "text": [
      "Enter marks for subject 1:  77\n",
      "Enter marks for subject 2:  86\n",
      "Enter marks for subject 3:  90\n",
      "Enter marks for subject 4:  78\n"
     ]
    },
    {
     "name": "stdout",
     "output_type": "stream",
     "text": [
      "The average marks are: 82.75\n",
      "The grade is: A\n"
     ]
    }
   ],
   "source": [
    "# to calculate the average and determine the grade\n",
    "def calculate_grade(marks):\n",
    "    average = sum(marks) / len(marks)  \n",
    "    if average >= 75:\n",
    "        grade = 'A'\n",
    "    elif average >= 60:\n",
    "        grade = 'B'\n",
    "    elif average >= 40:\n",
    "        grade = 'C'\n",
    "    else:\n",
    "        grade = 'D'\n",
    "    return average, grade\n",
    "marks = []\n",
    "for i in range(4):\n",
    "    mark = float(input(f\"Enter marks for subject {i + 1}: \"))\n",
    "    marks.append(mark)\n",
    "average, grade = calculate_grade(marks)\n",
    "print(f\"The average marks are: {average:.2f}\")\n",
    "print(f\"The grade is: {grade}\")\n"
   ]
  },
  {
   "cell_type": "code",
   "execution_count": 24,
   "id": "27cea4a0-3c07-48a0-8866-2e3a2eef72a5",
   "metadata": {},
   "outputs": [
    {
     "name": "stdin",
     "output_type": "stream",
     "text": [
      "Enter the first number:  45\n",
      "Enter the second number:  23\n",
      "Enter the operator (+, -, *, /):  *\n"
     ]
    },
    {
     "name": "stdout",
     "output_type": "stream",
     "text": [
      "The result is: 1035.0\n"
     ]
    }
   ],
   "source": [
    "# simple calculator\n",
    "def calculate(num1, num2, operator):\n",
    "    if operator == '+':\n",
    "        return num1 + num2\n",
    "    elif operator == '-':\n",
    "        return num1 - num2\n",
    "    elif operator == '*':\n",
    "        return num1 * num2\n",
    "    elif operator == '/':\n",
    "        if num2 != 0:\n",
    "            return num1 / num2\n",
    "        else:\n",
    "            return \"Error! Division by zero.\"\n",
    "    else:\n",
    "        return \"Invalid operator.\"\n",
    "\n",
    "num1 = float(input(\"Enter the first number: \"))\n",
    "num2 = float(input(\"Enter the second number: \"))\n",
    "operator = input(\"Enter the operator (+, -, *, /): \")\n",
    "\n",
    "result = calculate(num1, num2, operator)\n",
    "\n",
    "print(f\"The result is: {result}\")"
   ]
  },
  {
   "cell_type": "code",
   "execution_count": 25,
   "id": "7205defc-2641-4666-a9b4-85f056c014ba",
   "metadata": {},
   "outputs": [
    {
     "name": "stdin",
     "output_type": "stream",
     "text": [
      "Enter the coefficient a:  3\n",
      "Enter the coefficient b:  2\n",
      "Enter the coefficient c:  5\n"
     ]
    },
    {
     "name": "stdout",
     "output_type": "stream",
     "text": [
      "The roots of the quadratic equation are: (-0.3333333333333333+1.247219128924647j) and (-0.3333333333333333-1.247219128924647j)\n"
     ]
    }
   ],
   "source": [
    "import cmath  \n",
    "\n",
    "# to find the roots of a quadratic equation\n",
    "def find_roots(a, b, c):\n",
    "    discriminant = b**2 - 4*a*c\n",
    "    root1 = (-b + cmath.sqrt(discriminant)) / (2 * a)\n",
    "    root2 = (-b - cmath.sqrt(discriminant)) / (2 * a)\n",
    "    \n",
    "    return root1, root2\n",
    "a = float(input(\"Enter the coefficient a: \"))\n",
    "b = float(input(\"Enter the coefficient b: \"))\n",
    "c = float(input(\"Enter the coefficient c: \"))\n",
    "\n",
    "if a == 0:\n",
    "    print(\"Coefficient 'a' cannot be zero for a quadratic equation.\")\n",
    "else:\n",
    "    \n",
    "    root1, root2 = find_roots(a, b, c)\n",
    "    print(f\"The roots of the quadratic equation are: {root1} and {root2}\")"
   ]
  },
  {
   "cell_type": "code",
   "execution_count": 27,
   "id": "387a1b2e-7cd0-4d6a-ad13-15cf198f0d7a",
   "metadata": {},
   "outputs": [
    {
     "name": "stdin",
     "output_type": "stream",
     "text": [
      "Enter a positive integer n:  5\n"
     ]
    },
    {
     "name": "stdout",
     "output_type": "stream",
     "text": [
      "1\n",
      "2\n",
      "3\n",
      "4\n",
      "5\n"
     ]
    }
   ],
   "source": [
    "n = int(input(\"Enter a positive integer n: \"))\n",
    "\n",
    "# Print numbers from 1 to n\n",
    "for i in range(1, n + 1):\n",
    "    print(i)"
   ]
  },
  {
   "cell_type": "code",
   "execution_count": 28,
   "id": "dd8d589c-8bfe-46fa-9772-6c1b6592eabb",
   "metadata": {},
   "outputs": [
    {
     "name": "stdin",
     "output_type": "stream",
     "text": [
      "Enter a positive integer n:  45\n"
     ]
    },
    {
     "name": "stdout",
     "output_type": "stream",
     "text": [
      "The sum of natural numbers from 1 to 45 is: 1035\n"
     ]
    }
   ],
   "source": [
    "# Calculate the sum of natural numbers\n",
    "n = int(input(\"Enter a positive integer n: \"))\n",
    "sum_natural = 0\n",
    "\n",
    "for i in range(1, n + 1):\n",
    "    sum_natural += i\n",
    "print(f\"The sum of natural numbers from 1 to {n} is: {sum_natural}\")"
   ]
  },
  {
   "cell_type": "code",
   "execution_count": 29,
   "id": "9d446d9d-4092-44eb-9b57-531b259703fc",
   "metadata": {},
   "outputs": [
    {
     "name": "stdin",
     "output_type": "stream",
     "text": [
      "Enter a positive integer:  34\n"
     ]
    },
    {
     "name": "stdout",
     "output_type": "stream",
     "text": [
      "The sum of the digits of 34 is: 7\n"
     ]
    }
   ],
   "source": [
    "# to calculate the sum of digits\n",
    "def sum_of_digits(number):\n",
    "\n",
    "    total = 0\n",
    "    while number > 0:\n",
    "        digit = number % 10  \n",
    "        total += digit       \n",
    "        number //= 10        \n",
    "    \n",
    "    return total\n",
    "num = int(input(\"Enter a positive integer: \"))\n",
    "result = sum_of_digits(num)\n",
    "print(f\"The sum of the digits of {num} is: {result}\")"
   ]
  },
  {
   "cell_type": "code",
   "execution_count": 30,
   "id": "c8b81519-ffe2-4cf8-83e3-34f6cf955a91",
   "metadata": {},
   "outputs": [
    {
     "name": "stdin",
     "output_type": "stream",
     "text": [
      "Enter a positive integer:  5\n"
     ]
    },
    {
     "name": "stdout",
     "output_type": "stream",
     "text": [
      "Factors of 5 are:\n",
      "1\n",
      "5\n"
     ]
    }
   ],
   "source": [
    "# to find and print factors of a number\n",
    "def print_factors(number):\n",
    "    print(f\"Factors of {number} are:\")\n",
    "    for i in range(1, number + 1):\n",
    "        if number % i == 0:\n",
    "            print(i)\n",
    "num = int(input(\"Enter a positive integer: \"))\n",
    "print_factors(num)"
   ]
  },
  {
   "cell_type": "code",
   "execution_count": 31,
   "id": "c85f86a6-d1a3-4896-af82-5d4fc7030f87",
   "metadata": {},
   "outputs": [
    {
     "name": "stdin",
     "output_type": "stream",
     "text": [
      "Enter a number:  45\n"
     ]
    },
    {
     "name": "stdout",
     "output_type": "stream",
     "text": [
      "Reversed Number: 54\n"
     ]
    }
   ],
   "source": [
    "#reverse of a number\n",
    "def reverse_number(num):\n",
    "    reversed_num = str(num)[::-1]\n",
    "    return int(reversed_num) \n",
    "number = int(input(\"Enter a number: \"))\n",
    "reversed_number = reverse_number(number)\n",
    "print(\"Reversed Number:\", reversed_number)"
   ]
  },
  {
   "cell_type": "code",
   "execution_count": 32,
   "id": "795136e2-4066-4ad3-a84e-74ccec72085d",
   "metadata": {},
   "outputs": [
    {
     "name": "stdin",
     "output_type": "stream",
     "text": [
      "Enter a number:  5\n"
     ]
    },
    {
     "name": "stdout",
     "output_type": "stream",
     "text": [
      "Factorial (Iterative): 120\n"
     ]
    }
   ],
   "source": [
    "#factorial of a number\n",
    "def factorial_iterative(n):\n",
    "    if n < 0:\n",
    "        return \"Factorial is not defined for negative numbers.\"\n",
    "    result = 1\n",
    "    for i in range(2, n + 1):\n",
    "        result *= i\n",
    "    return result\n",
    "number = int(input(\"Enter a number: \"))\n",
    "print(\"Factorial (Iterative):\", factorial_iterative(number))"
   ]
  },
  {
   "cell_type": "code",
   "execution_count": 33,
   "id": "45494288-a148-47be-a985-97aeea20b728",
   "metadata": {},
   "outputs": [
    {
     "name": "stdin",
     "output_type": "stream",
     "text": [
      "Enter a number:  34\n"
     ]
    },
    {
     "name": "stdout",
     "output_type": "stream",
     "text": [
      "34 is not a palindrome.\n"
     ]
    }
   ],
   "source": [
    "#palindrome\n",
    "def is_palindrome(num):\n",
    "    str_num = str(num)\n",
    "    \n",
    "    return str_num == str_num[::-1]\n",
    "number = int(input(\"Enter a number: \"))\n",
    "if is_palindrome(number):\n",
    "    print(f\"{number} is a palindrome.\")\n",
    "else:\n",
    "    print(f\"{number} is not a palindrome.\")"
   ]
  },
  {
   "cell_type": "code",
   "execution_count": 34,
   "id": "9bc5ff78-a1ae-4813-b768-9fbfff6f0229",
   "metadata": {},
   "outputs": [
    {
     "name": "stdin",
     "output_type": "stream",
     "text": [
      "Enter a number:  23\n"
     ]
    },
    {
     "name": "stdout",
     "output_type": "stream",
     "text": [
      "23 is a prime number.\n"
     ]
    }
   ],
   "source": [
    "#prime or not\n",
    "def is_prime(num):\n",
    "    if num <= 1:\n",
    "        return False  \n",
    "    for i in range(2, int(num**0.5) + 1):\n",
    "        if num % i == 0:\n",
    "            return False  \n",
    "    return True  \n",
    "\n",
    "\n",
    "number = int(input(\"Enter a number: \"))\n",
    "if is_prime(number):\n",
    "    print(f\"{number} is a prime number.\")\n",
    "else:\n",
    "    print(f\"{number} is not a prime number.\")"
   ]
  },
  {
   "cell_type": "code",
   "execution_count": 35,
   "id": "767ad841-4d0f-4db1-817e-c418f7a4ad01",
   "metadata": {},
   "outputs": [
    {
     "name": "stdin",
     "output_type": "stream",
     "text": [
      "Enter a number:  23\n"
     ]
    },
    {
     "name": "stdout",
     "output_type": "stream",
     "text": [
      "23 is not an Armstrong number.\n"
     ]
    }
   ],
   "source": [
    "#armstrong\n",
    "def is_armstrong(num):\n",
    "    str_num = str(num)\n",
    "    num_digits = len(str_num)\n",
    "    sum_of_powers = sum(int(digit) ** num_digits for digit in str_num)\n",
    "    \n",
    "    return sum_of_powers == num\n",
    "\n",
    "number = int(input(\"Enter a number: \"))\n",
    "if is_armstrong(number):\n",
    "    print(f\"{number} is an Armstrong number.\")\n",
    "else:\n",
    "    print(f\"{number} is not an Armstrong number.\")"
   ]
  },
  {
   "cell_type": "code",
   "execution_count": 37,
   "id": "75f390c5-430f-45f2-898e-08ad74821a0e",
   "metadata": {},
   "outputs": [
    {
     "name": "stdin",
     "output_type": "stream",
     "text": [
      "Enter the number of terms in the Fibonacci series:  6\n"
     ]
    },
    {
     "name": "stdout",
     "output_type": "stream",
     "text": [
      "Fibonacci series:\n",
      "[0, 1, 1, 2, 3, 5]\n"
     ]
    }
   ],
   "source": [
    "def fibonacci_series(n):\n",
    "    fib_series = []\n",
    "    a, b = 0, 1  \n",
    "    for _ in range(n):\n",
    "        fib_series.append(a)\n",
    "        a, b = b, a + b  \n",
    "    return fib_series\n",
    "n = int(input(\"Enter the number of terms in the Fibonacci series: \"))\n",
    "if n <= 0:\n",
    "    print(\"Please enter a positive integer.\")\n",
    "else:\n",
    "    print(\"Fibonacci series:\")\n",
    "    print(fibonacci_series(n))"
   ]
  },
  {
   "cell_type": "code",
   "execution_count": 38,
   "id": "b86df22d-1cd1-4689-91d9-4b0ee0e006c0",
   "metadata": {},
   "outputs": [
    {
     "name": "stdin",
     "output_type": "stream",
     "text": [
      "Enter a number to display its multiplication table:  4\n",
      "Enter the number of terms for the multiplication table (default is 10):  5\n"
     ]
    },
    {
     "name": "stdout",
     "output_type": "stream",
     "text": [
      "Multiplication Table for 4:\n",
      "4 x 1 = 4\n",
      "4 x 2 = 8\n",
      "4 x 3 = 12\n",
      "4 x 4 = 16\n",
      "4 x 5 = 20\n"
     ]
    }
   ],
   "source": [
    "#implement multiplication\n",
    "def multiplication_table(num, terms=10):\n",
    "    print(f\"Multiplication Table for {num}:\")\n",
    "    for i in range(1, terms + 1):\n",
    "        print(f\"{num} x {i} = {num * i}\")\n",
    "number = int(input(\"Enter a number to display its multiplication table: \"))\n",
    "terms = int(input(\"Enter the number of terms for the multiplication table (default is 10): \") or 10)\n",
    "\n",
    "multiplication_table(number, terms)"
   ]
  },
  {
   "cell_type": "code",
   "execution_count": 39,
   "id": "75399ef5-2817-4f22-913e-c1a57250f841",
   "metadata": {},
   "outputs": [
    {
     "name": "stdin",
     "output_type": "stream",
     "text": [
      "Enter elements of the list separated by spaces:  2 3 4 6 8 \n"
     ]
    },
    {
     "name": "stdout",
     "output_type": "stream",
     "text": [
      "The list you entered is: ['2', '3', '4', '6', '8']\n"
     ]
    }
   ],
   "source": [
    "#input from user in a list\n",
    "def input_list():\n",
    "    user_input = input(\"Enter elements of the list separated by spaces: \")\n",
    "    input_list = user_input.split()\n",
    "    return input_list\n",
    "user_list = input_list()\n",
    "print(\"The list you entered is:\", user_list)"
   ]
  },
  {
   "cell_type": "code",
   "execution_count": 40,
   "id": "23d373a9-a786-4900-a96d-cb1e062cb3c3",
   "metadata": {},
   "outputs": [
    {
     "name": "stdin",
     "output_type": "stream",
     "text": [
      "Enter numbers separated by spaces:  2 3 4 7\n"
     ]
    },
    {
     "name": "stdout",
     "output_type": "stream",
     "text": [
      "The average of the entered numbers is: 4.0\n"
     ]
    }
   ],
   "source": [
    "#average of n numbers using list\n",
    "def calculate_average(numbers):\n",
    "    return sum(numbers) / len(numbers) if numbers else 0\n",
    "\n",
    "def input_numbers():\n",
    "    user_input = input(\"Enter numbers separated by spaces: \")\n",
    "    \n",
    "    input_list = [float(num) for num in user_input.split()]\n",
    "    return input_list\n",
    "numbers = input_numbers()\n",
    "average = calculate_average(numbers)\n",
    "print(\"The average of the entered numbers is:\", average)"
   ]
  },
  {
   "cell_type": "code",
   "execution_count": 43,
   "id": "84888751-5e80-4518-9385-9056908f91a2",
   "metadata": {},
   "outputs": [
    {
     "name": "stdin",
     "output_type": "stream",
     "text": [
      "Enter numbers separated by spaces:  2 4 7 9 \n",
      "Enter the number to search for:  9\n"
     ]
    },
    {
     "name": "stdout",
     "output_type": "stream",
     "text": [
      "The number 9 is found at index 3.\n"
     ]
    }
   ],
   "source": [
    "#linear search\n",
    "def linear_search(arr, target):\n",
    "    for index, value in enumerate(arr):\n",
    "        if value == target:\n",
    "            return index  \n",
    "    return -1\n",
    "\n",
    "def input_numbers():\n",
    "    user_input = input(\"Enter numbers separated by spaces: \")\n",
    "    \n",
    "    input_list = [int(num) for num in user_input.split()]\n",
    "    return input_list\n",
    "\n",
    "\n",
    "numbers = input_numbers()\n",
    "\n",
    "target = int(input(\"Enter the number to search for: \"))\n",
    "result = linear_search(numbers, target)\n",
    "if result != -1:\n",
    "    print(f\"The number {target} is found at index {result}.\")\n",
    "else:\n",
    "    print(f\"The number {target} is not found in the list.\")"
   ]
  },
  {
   "cell_type": "code",
   "execution_count": 44,
   "id": "bb5e4072-ac2a-4878-b868-b05bc253714e",
   "metadata": {},
   "outputs": [
    {
     "name": "stdout",
     "output_type": "stream",
     "text": [
      "Enter lines of text (press 'Enter' twice to stop):\n"
     ]
    },
    {
     "name": "stdin",
     "output_type": "stream",
     "text": [
      " 4\n",
      " \n"
     ]
    },
    {
     "name": "stdout",
     "output_type": "stream",
     "text": [
      "4\n"
     ]
    }
   ],
   "source": [
    "#32\n",
    "def capitalize_lines():\n",
    "    print(\"Enter lines of text (press 'Enter' twice to stop):\")\n",
    "    lines = []\n",
    "    \n",
    "    while True:\n",
    "        line = input()\n",
    "        if line == \"\":  \n",
    "            break\n",
    "        lines.append(line)\n",
    "    for line in lines:\n",
    "        print(line.upper())\n",
    "capitalize_lines()"
   ]
  },
  {
   "cell_type": "code",
   "execution_count": 45,
   "id": "08c0f776-3019-4845-b364-98d1d1de6b32",
   "metadata": {},
   "outputs": [
    {
     "name": "stdin",
     "output_type": "stream",
     "text": [
      "Enter a sequence of comma-separated numbers:  3,7,9,7\n"
     ]
    },
    {
     "name": "stdout",
     "output_type": "stream",
     "text": [
      "List: ['3', '7', '9', '7']\n",
      "Tuple: ('3', '7', '9', '7')\n"
     ]
    }
   ],
   "source": [
    "#33\n",
    "def generate_list_and_tuple():\n",
    "    user_input = input(\"Enter a sequence of comma-separated numbers: \")\n",
    "    number_list = user_input.split(\",\")\n",
    "    number_tuple = tuple(number_list)\n",
    "    print(\"List:\", number_list)\n",
    "    print(\"Tuple:\", number_tuple)\n",
    "generate_list_and_tuple()"
   ]
  },
  {
   "cell_type": "code",
   "execution_count": null,
   "id": "19000c6d-9ca7-4a57-bde9-cf0e458142ea",
   "metadata": {},
   "outputs": [],
   "source": []
  }
 ],
 "metadata": {
  "kernelspec": {
   "display_name": "Python 3 (ipykernel)",
   "language": "python",
   "name": "python3"
  },
  "language_info": {
   "codemirror_mode": {
    "name": "ipython",
    "version": 3
   },
   "file_extension": ".py",
   "mimetype": "text/x-python",
   "name": "python",
   "nbconvert_exporter": "python",
   "pygments_lexer": "ipython3",
   "version": "3.11.7"
  }
 },
 "nbformat": 4,
 "nbformat_minor": 5
}
